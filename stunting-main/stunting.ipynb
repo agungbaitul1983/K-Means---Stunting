{
 "cells": [
  {
   "cell_type": "markdown",
   "id": "4d02c56a",
   "metadata": {},
   "source": [
    "# 1. Business Understanding\n",
    "Mengkelompokan Jumlah Balita Stunting Menurut Puskesmas Tahun 2020 berdasarkan nilai jumlah dan persentase (%)\n",
    "\n",
    "Jumlah Balita Stunting Menurut Puskesmas Tahun 2020 dibagi menjadi tiga kelompok, yaitu:\n",
    "\n",
    "* kelompok puskesmas memiliki data balita stunting terkecil, \n",
    "* kelompok puskesmas memiliki data balita stunting terbanyak.\n",
    "\n",
    "Puskesmas yang <b>wajib</b> mengadakan <b>sosialisasi balita stunting</b> adalah puskesmas yang masuk dalam <b>kelompok puskesmas memiliki data balita stunting terbanyak perlu gencar sosialisasi</b>"
   ]
  },
  {
   "cell_type": "markdown",
   "id": "4f6733f1",
   "metadata": {},
   "source": [
    "# 2. Data Understanding\n",
    "Data saya ambil dari https://data.tasikmalayakota.go.id/dinas-kesehatan/jumlah-balita-stunting-menurut-puskesmas-tahun-2020/ dan diberi nama <b>stunting.csv</b>, data tersebut berisi atribut sebagai berikut:\n",
    "\n",
    "* Puskesmas, adalah nama puskesmas, sebagai identity\n",
    "* Jumlah , adalah jumlah balita stunting (dalam satuan tahun)\n",
    "* Persentase, adalah nilai persentase balita stunting (dalam satuan persen)\n",
    "\n",
    "# 3. Data Preparation"
   ]
  },
  {
   "cell_type": "code",
   "execution_count": 222,
   "id": "36d8fec4",
   "metadata": {},
   "outputs": [],
   "source": [
    "# import library-libary yang digunakan\n",
    "import pandas as pd\n",
    "import numpy as np\n",
    "import matplotlib.pyplot as plt\n",
    "import seaborn as sns \n",
    "from sklearn.cluster import KMeans\n",
    "from sklearn.metrics import silhouette_score\n",
    "import warnings\n",
    "warnings.filterwarnings('ignore')"
   ]
  },
  {
   "cell_type": "code",
   "execution_count": 223,
   "id": "338c539d",
   "metadata": {},
   "outputs": [],
   "source": [
    "# load dataset stunting.csv\n",
    "nilai = pd.read_csv('datasets/stunting.csv')"
   ]
  },
  {
   "cell_type": "code",
   "execution_count": 224,
   "id": "c2cac3fa",
   "metadata": {},
   "outputs": [
    {
     "data": {
      "text/html": [
       "<div>\n",
       "<style scoped>\n",
       "    .dataframe tbody tr th:only-of-type {\n",
       "        vertical-align: middle;\n",
       "    }\n",
       "\n",
       "    .dataframe tbody tr th {\n",
       "        vertical-align: top;\n",
       "    }\n",
       "\n",
       "    .dataframe thead th {\n",
       "        text-align: right;\n",
       "    }\n",
       "</style>\n",
       "<table border=\"1\" class=\"dataframe\">\n",
       "  <thead>\n",
       "    <tr style=\"text-align: right;\">\n",
       "      <th></th>\n",
       "      <th>PUSKESMAS</th>\n",
       "      <th>JUMLAH</th>\n",
       "      <th>PERSENTASE</th>\n",
       "    </tr>\n",
       "  </thead>\n",
       "  <tbody>\n",
       "    <tr>\n",
       "      <th>0</th>\n",
       "      <td>CIHIDEUNG</td>\n",
       "      <td>466</td>\n",
       "      <td>18.90</td>\n",
       "    </tr>\n",
       "    <tr>\n",
       "      <th>1</th>\n",
       "      <td>CILEMBANG</td>\n",
       "      <td>243</td>\n",
       "      <td>12.32</td>\n",
       "    </tr>\n",
       "    <tr>\n",
       "      <th>2</th>\n",
       "      <td>CIPEDES</td>\n",
       "      <td>78</td>\n",
       "      <td>7.99</td>\n",
       "    </tr>\n",
       "    <tr>\n",
       "      <th>3</th>\n",
       "      <td>PANGLAYUNGAN</td>\n",
       "      <td>279</td>\n",
       "      <td>23.12</td>\n",
       "    </tr>\n",
       "    <tr>\n",
       "      <th>4</th>\n",
       "      <td>CIGEUREUNG</td>\n",
       "      <td>643</td>\n",
       "      <td>22.42</td>\n",
       "    </tr>\n",
       "  </tbody>\n",
       "</table>\n",
       "</div>"
      ],
      "text/plain": [
       "      PUSKESMAS  JUMLAH  PERSENTASE\n",
       "0     CIHIDEUNG     466       18.90\n",
       "1     CILEMBANG     243       12.32\n",
       "2       CIPEDES      78        7.99\n",
       "3  PANGLAYUNGAN     279       23.12\n",
       "4    CIGEUREUNG     643       22.42"
      ]
     },
     "execution_count": 224,
     "metadata": {},
     "output_type": "execute_result"
    }
   ],
   "source": [
    "# menampilkan lima data teratas\n",
    "nilai.head(5)"
   ]
  },
  {
   "cell_type": "code",
   "execution_count": 225,
   "id": "aba2a9e3",
   "metadata": {},
   "outputs": [
    {
     "data": {
      "text/plain": [
       "(22, 3)"
      ]
     },
     "execution_count": 225,
     "metadata": {},
     "output_type": "execute_result"
    }
   ],
   "source": [
    "# cek dimensi data\n",
    "nilai.shape"
   ]
  },
  {
   "cell_type": "code",
   "execution_count": 226,
   "id": "e59d33e9",
   "metadata": {},
   "outputs": [
    {
     "data": {
      "text/plain": [
       "Index(['PUSKESMAS', 'JUMLAH', 'PERSENTASE'], dtype='object')"
      ]
     },
     "execution_count": 226,
     "metadata": {},
     "output_type": "execute_result"
    }
   ],
   "source": [
    "# menampilkan nama-nama atribut\n",
    "nilai.columns"
   ]
  },
  {
   "cell_type": "code",
   "execution_count": 227,
   "id": "ed1d5a70",
   "metadata": {},
   "outputs": [
    {
     "name": "stdout",
     "output_type": "stream",
     "text": [
      "<class 'pandas.core.frame.DataFrame'>\n",
      "RangeIndex: 22 entries, 0 to 21\n",
      "Data columns (total 3 columns):\n",
      " #   Column      Non-Null Count  Dtype  \n",
      "---  ------      --------------  -----  \n",
      " 0   PUSKESMAS   22 non-null     object \n",
      " 1   JUMLAH      22 non-null     int64  \n",
      " 2   PERSENTASE  22 non-null     float64\n",
      "dtypes: float64(1), int64(1), object(1)\n",
      "memory usage: 656.0+ bytes\n"
     ]
    }
   ],
   "source": [
    "# menampilkan tipe data masing-masing atribut\n",
    "nilai.info()"
   ]
  },
  {
   "cell_type": "markdown",
   "id": "20212cca",
   "metadata": {},
   "source": [
    "### Cek Missing Value (hilangnya beberapa data)"
   ]
  },
  {
   "cell_type": "code",
   "execution_count": 228,
   "id": "44b79723",
   "metadata": {},
   "outputs": [
    {
     "data": {
      "text/plain": [
       "PUSKESMAS     0\n",
       "JUMLAH        0\n",
       "PERSENTASE    0\n",
       "dtype: int64"
      ]
     },
     "execution_count": 228,
     "metadata": {},
     "output_type": "execute_result"
    }
   ],
   "source": [
    "# cek apakah terdapat missing value\n",
    "nilai.isnull().sum()"
   ]
  },
  {
   "cell_type": "markdown",
   "id": "19b494e9",
   "metadata": {},
   "source": [
    "Data stunting.csv tidak terdapat missing value\n",
    "\n",
    "<b>Atribute/Feature Selection</b><br>\n",
    "Pada bagian data understanding, telah dijelaskan bahwa puskesmas sebagai identity, sehingga tidak digunakan dalam pemodelan."
   ]
  },
  {
   "cell_type": "code",
   "execution_count": 229,
   "id": "b33c030e",
   "metadata": {},
   "outputs": [],
   "source": [
    "#filter hanya atribut JUMLAH dan PERSENTASE yang digunakan dalam pemodelan\n",
    "nilai_fs = nilai[['JUMLAH', 'PERSENTASE']]"
   ]
  },
  {
   "cell_type": "code",
   "execution_count": 230,
   "id": "839d16db",
   "metadata": {},
   "outputs": [
    {
     "data": {
      "text/html": [
       "<div>\n",
       "<style scoped>\n",
       "    .dataframe tbody tr th:only-of-type {\n",
       "        vertical-align: middle;\n",
       "    }\n",
       "\n",
       "    .dataframe tbody tr th {\n",
       "        vertical-align: top;\n",
       "    }\n",
       "\n",
       "    .dataframe thead th {\n",
       "        text-align: right;\n",
       "    }\n",
       "</style>\n",
       "<table border=\"1\" class=\"dataframe\">\n",
       "  <thead>\n",
       "    <tr style=\"text-align: right;\">\n",
       "      <th></th>\n",
       "      <th>JUMLAH</th>\n",
       "      <th>PERSENTASE</th>\n",
       "    </tr>\n",
       "  </thead>\n",
       "  <tbody>\n",
       "    <tr>\n",
       "      <th>count</th>\n",
       "      <td>22.000000</td>\n",
       "      <td>22.000000</td>\n",
       "    </tr>\n",
       "    <tr>\n",
       "      <th>mean</th>\n",
       "      <td>351.409091</td>\n",
       "      <td>17.968182</td>\n",
       "    </tr>\n",
       "    <tr>\n",
       "      <th>std</th>\n",
       "      <td>240.604132</td>\n",
       "      <td>9.667161</td>\n",
       "    </tr>\n",
       "    <tr>\n",
       "      <th>min</th>\n",
       "      <td>61.000000</td>\n",
       "      <td>2.920000</td>\n",
       "    </tr>\n",
       "    <tr>\n",
       "      <th>25%</th>\n",
       "      <td>210.250000</td>\n",
       "      <td>9.822500</td>\n",
       "    </tr>\n",
       "    <tr>\n",
       "      <th>50%</th>\n",
       "      <td>275.500000</td>\n",
       "      <td>19.545000</td>\n",
       "    </tr>\n",
       "    <tr>\n",
       "      <th>75%</th>\n",
       "      <td>492.250000</td>\n",
       "      <td>23.115000</td>\n",
       "    </tr>\n",
       "    <tr>\n",
       "      <th>max</th>\n",
       "      <td>1148.000000</td>\n",
       "      <td>44.360000</td>\n",
       "    </tr>\n",
       "  </tbody>\n",
       "</table>\n",
       "</div>"
      ],
      "text/plain": [
       "            JUMLAH  PERSENTASE\n",
       "count    22.000000   22.000000\n",
       "mean    351.409091   17.968182\n",
       "std     240.604132    9.667161\n",
       "min      61.000000    2.920000\n",
       "25%     210.250000    9.822500\n",
       "50%     275.500000   19.545000\n",
       "75%     492.250000   23.115000\n",
       "max    1148.000000   44.360000"
      ]
     },
     "execution_count": 230,
     "metadata": {},
     "output_type": "execute_result"
    }
   ],
   "source": [
    "# statistic descriptive (Membuat Ringkasan Data)\n",
    "nilai_fs.describe()"
   ]
  },
  {
   "cell_type": "code",
   "execution_count": 231,
   "id": "bb788cf1",
   "metadata": {},
   "outputs": [
    {
     "data": {
      "text/html": [
       "<div>\n",
       "<style scoped>\n",
       "    .dataframe tbody tr th:only-of-type {\n",
       "        vertical-align: middle;\n",
       "    }\n",
       "\n",
       "    .dataframe tbody tr th {\n",
       "        vertical-align: top;\n",
       "    }\n",
       "\n",
       "    .dataframe thead th {\n",
       "        text-align: right;\n",
       "    }\n",
       "</style>\n",
       "<table border=\"1\" class=\"dataframe\">\n",
       "  <thead>\n",
       "    <tr style=\"text-align: right;\">\n",
       "      <th></th>\n",
       "      <th>JUMLAH</th>\n",
       "      <th>PERSENTASE</th>\n",
       "    </tr>\n",
       "  </thead>\n",
       "  <tbody>\n",
       "    <tr>\n",
       "      <th>0</th>\n",
       "      <td>466</td>\n",
       "      <td>18.90</td>\n",
       "    </tr>\n",
       "    <tr>\n",
       "      <th>1</th>\n",
       "      <td>243</td>\n",
       "      <td>12.32</td>\n",
       "    </tr>\n",
       "    <tr>\n",
       "      <th>2</th>\n",
       "      <td>78</td>\n",
       "      <td>7.99</td>\n",
       "    </tr>\n",
       "    <tr>\n",
       "      <th>3</th>\n",
       "      <td>279</td>\n",
       "      <td>23.12</td>\n",
       "    </tr>\n",
       "    <tr>\n",
       "      <th>4</th>\n",
       "      <td>643</td>\n",
       "      <td>22.42</td>\n",
       "    </tr>\n",
       "  </tbody>\n",
       "</table>\n",
       "</div>"
      ],
      "text/plain": [
       "   JUMLAH  PERSENTASE\n",
       "0     466       18.90\n",
       "1     243       12.32\n",
       "2      78        7.99\n",
       "3     279       23.12\n",
       "4     643       22.42"
      ]
     },
     "execution_count": 231,
     "metadata": {},
     "output_type": "execute_result"
    }
   ],
   "source": [
    "# cek lima data teratas setelah dilakukan feature selection\n",
    "nilai_fs.head()"
   ]
  },
  {
   "cell_type": "code",
   "execution_count": 232,
   "id": "358fef1a",
   "metadata": {},
   "outputs": [
    {
     "data": {
      "text/plain": [
       "(22, 2)"
      ]
     },
     "execution_count": 232,
     "metadata": {},
     "output_type": "execute_result"
    }
   ],
   "source": [
    "# cek dimensi data setelah dilakukan feature selection\n",
    "nilai_fs.shape"
   ]
  },
  {
   "cell_type": "code",
   "execution_count": 233,
   "id": "357e339b",
   "metadata": {},
   "outputs": [
    {
     "data": {
      "image/png": "[encoded data removed]",
      "text/plain": [
       "<Figure size 720x360 with 2 Axes>"
      ]
     },
     "metadata": {
      "needs_background": "light"
     },
     "output_type": "display_data"
    }
   ],
   "source": [
    "# menampilkan distribusi kedua atribut\n",
    "fig = plt.figure(figsize=(10,5))\n",
    "\n",
    "# Fungsi Sub plot mengambil tiga argumen yang menjelaskan layout gambar.\n",
    "# Layout diatur dalam baris dan kolom, yang diwakili oleh argumen pertama dan kedua.\n",
    "\n",
    "\n",
    "fig.add_subplot(2,1,1)\n",
    "# gambar tersebut memiliki 2 baris, 1 kolom, dan plot ini adalah plot pertama.\n",
    "sns.distplot(nilai['JUMLAH'])\n",
    "\n",
    "fig.add_subplot(2,1,2)\n",
    "sns.distplot(nilai['PERSENTASE'])\n",
    "\n",
    "fig.tight_layout()"
   ]
  },
  {
   "cell_type": "code",
   "execution_count": 234,
   "id": "38e65d81",
   "metadata": {},
   "outputs": [
    {
     "data": {
      "image/png": "[encoded data removed]",
      "text/plain": [
       "<Figure size 720x360 with 2 Axes>"
      ]
     },
     "metadata": {
      "needs_background": "light"
     },
     "output_type": "display_data"
    }
   ],
   "source": [
    "# melihat distribusi kedua atribut dalam bentuk box plot\n",
    "fig = plt.figure(figsize=(10,5))\n",
    "\n",
    "fig.add_subplot(1,2,1)\n",
    "plt.boxplot(nilai['JUMLAH'])\n",
    "\n",
    "fig.add_subplot(1,2,2)\n",
    "plt.boxplot(nilai['PERSENTASE'])\n",
    "\n",
    "plt.show()\n"
   ]
  },
  {
   "cell_type": "code",
   "execution_count": 235,
   "id": "a77f5a86",
   "metadata": {},
   "outputs": [
    {
     "data": {
      "text/html": [
       "<div>\n",
       "<style scoped>\n",
       "    .dataframe tbody tr th:only-of-type {\n",
       "        vertical-align: middle;\n",
       "    }\n",
       "\n",
       "    .dataframe tbody tr th {\n",
       "        vertical-align: top;\n",
       "    }\n",
       "\n",
       "    .dataframe thead th {\n",
       "        text-align: right;\n",
       "    }\n",
       "</style>\n",
       "<table border=\"1\" class=\"dataframe\">\n",
       "  <thead>\n",
       "    <tr style=\"text-align: right;\">\n",
       "      <th></th>\n",
       "      <th>JUMLAH</th>\n",
       "      <th>PERSENTASE</th>\n",
       "    </tr>\n",
       "  </thead>\n",
       "  <tbody>\n",
       "    <tr>\n",
       "      <th>JUMLAH</th>\n",
       "      <td>1.000000</td>\n",
       "      <td>0.804603</td>\n",
       "    </tr>\n",
       "    <tr>\n",
       "      <th>PERSENTASE</th>\n",
       "      <td>0.804603</td>\n",
       "      <td>1.000000</td>\n",
       "    </tr>\n",
       "  </tbody>\n",
       "</table>\n",
       "</div>"
      ],
      "text/plain": [
       "              JUMLAH  PERSENTASE\n",
       "JUMLAH      1.000000    0.804603\n",
       "PERSENTASE  0.804603    1.000000"
      ]
     },
     "execution_count": 235,
     "metadata": {},
     "output_type": "execute_result"
    }
   ],
   "source": [
    "# hubungan korelasi antara JUMLAH dan PERSENTASE\n",
    "nilai_fs.corr()"
   ]
  },
  {
   "cell_type": "code",
   "execution_count": 236,
   "id": "abb58c7f",
   "metadata": {},
   "outputs": [
    {
     "data": {
      "image/png": "[encoded data removed]",
      "text/plain": [
       "<Figure size 432x288 with 1 Axes>"
      ]
     },
     "metadata": {
      "needs_background": "light"
     },
     "output_type": "display_data"
    }
   ],
   "source": [
    "# Bivariate analysis antara atribut JUMLAH dan PERSENTASE dengan scatter plot\n",
    "plt.scatter(nilai_fs['JUMLAH'], nilai_fs['PERSENTASE'])\n",
    "plt.xlabel('JUMLAH')\n",
    "plt.ylabel('PERSENTASE')\n",
    "plt.title('Scatter Plot Jumlah Vs. Persentase')\n",
    "plt.show()"
   ]
  },
  {
   "cell_type": "markdown",
   "id": "0934be1c",
   "metadata": {},
   "source": [
    "Scatter plot menunjukkan korelasi positif <br>\n",
    "Semakin jumlah naik, nilai persentase semakin tinggi\n",
    "\n",
    "# 4. Modeling\n",
    "Dalam tahapan modeling, algoritme machine learning yang digunakan adalah algoritme K-Means\n",
    "\n",
    "Nilai K yang digunakan adalah tiga, karena performa puskesmas akan dibagi menjadi tiga kelompok"
   ]
  },
  {
   "cell_type": "code",
   "execution_count": 237,
   "id": "c2f54c3a",
   "metadata": {},
   "outputs": [
    {
     "data": {
      "text/plain": [
       "array([[223.46666667,  14.39      ],\n",
       "       [625.57142857,  25.63571429]])"
      ]
     },
     "execution_count": 237,
     "metadata": {},
     "output_type": "execute_result"
    }
   ],
   "source": [
    "kmeans = KMeans(n_clusters=2)\n",
    "kmeans = kmeans.fit(nilai_fs)\n",
    "kmeans.cluster_centers_"
   ]
  },
  {
   "cell_type": "markdown",
   "id": "51291394",
   "metadata": {},
   "source": [
    "## 5. Evaluation"
   ]
  },
  {
   "cell_type": "code",
   "execution_count": 238,
   "id": "5196a10c",
   "metadata": {},
   "outputs": [
    {
     "data": {
      "image/png": "[encoded data removed]",
      "text/plain": [
       "<Figure size 432x288 with 1 Axes>"
      ]
     },
     "metadata": {
      "needs_background": "light"
     },
     "output_type": "display_data"
    }
   ],
   "source": [
    "x = nilai['JUMLAH']\n",
    "y = nilai['PERSENTASE']\n",
    "\n",
    "group = kmeans.labels_\n",
    "\n",
    "colors = ['red', 'green']\n",
    "fig, ax = plt.subplots()\n",
    "\n",
    "for g in set(kmeans.labels_):\n",
    "    xi = [x[j] for j in range(len(x)) if group[j]==g]\n",
    "    yi = [y[j] for j in range(len(y)) if group[j]==g]\n",
    "    ax.scatter(xi, yi, c=colors[g], label=g)\n",
    "    ax.scatter(223.46666667, 14.39 , c='pink')\n",
    "    ax.scatter(625.57142857,  25.63571429, c='blue')\n",
    "    plt.xlabel('JUMLAH')\n",
    "    plt.ylabel('PERSENTASE')\n",
    "    plt.title('JUMLAH Vs. PERSENTASE')\n",
    "\n",
    "ax.legend()\n",
    "plt.show()"
   ]
  },
  {
   "cell_type": "markdown",
   "id": "b801dda0",
   "metadata": {},
   "source": [
    "* puskesmas data balita stuntting terbanyak masuk ke dalam Cluster 0 (warna merah)\n",
    "\n",
    "* puskesmas data balita stuntting terkecil masuk ke dalam Cluster 1 (warna hijau)\n",
    "\n",
    "* Dalam tahapan evaluasi, akan dihitung berapa jumlah kelompok (nilai K) optimal dari algoritme K-Means saat diterapkan pada dataset stunting.csv"
   ]
  },
  {
   "cell_type": "code",
   "execution_count": 239,
   "id": "0d73a179",
   "metadata": {},
   "outputs": [],
   "source": [
    "# mancari nilai K optimal\n",
    "inertia = []\n",
    "silhouette = []\n",
    "\n",
    "K = range(2,10)\n",
    "for k in K:\n",
    "    kmeans = KMeans(n_clusters = k)\n",
    "    kmeans = kmeans.fit(nilai_fs)\n",
    "    kmeans.labels_\n",
    "    \n",
    "    inertia.append(kmeans.inertia_)\n",
    "    silhouette.append(silhouette_score(nilai_fs, kmeans.labels_))"
   ]
  },
  {
   "cell_type": "code",
   "execution_count": 240,
   "id": "f855b619",
   "metadata": {},
   "outputs": [
    {
     "data": {
      "text/plain": [
       "Text(0, 0.5, 'Nilai Silhoutte')"
      ]
     },
     "execution_count": 240,
     "metadata": {},
     "output_type": "execute_result"
    },
    {
     "data": {
      "image/png": "[encoded data removed]",
      "text/plain": [
       "<Figure size 720x288 with 2 Axes>"
      ]
     },
     "metadata": {
      "needs_background": "light"
     },
     "output_type": "display_data"
    }
   ],
   "source": [
    "# visualisasi plotting nilai K\n",
    "fig = plt.figure(figsize=(10,4))\n",
    "\n",
    "fig.add_subplot(1,2,1)\n",
    "plt.plot(K, inertia, marker='x')\n",
    "plt.xlabel('k')\n",
    "plt.ylabel('Nilai Inertia')\n",
    "\n",
    "fig.add_subplot(1,2,2)           \n",
    "plt.plot(K, silhouette, marker='o')\n",
    "plt.xlabel('k')\n",
    "plt.ylabel('Nilai Silhoutte')"
   ]
  },
  {
   "cell_type": "markdown",
   "id": "09bf4aaa",
   "metadata": {},
   "source": [
    "Dari grafik di atas terlihat bahwa nilai K optimal adalah dua, sehingga sudah tepat membagi kelompok menjadi dua kelompok"
   ]
  },
  {
   "cell_type": "markdown",
   "id": "654b51f1",
   "metadata": {},
   "source": [
    "# 6. Deployment\n",
    "Menampilkan data semua puskesmas dengan menambahkan atribut puskesmas dan Cluster"
   ]
  },
  {
   "cell_type": "code",
   "execution_count": 241,
   "id": "ae952a90",
   "metadata": {},
   "outputs": [
    {
     "data": {
      "text/html": [
       "<div>\n",
       "<style scoped>\n",
       "    .dataframe tbody tr th:only-of-type {\n",
       "        vertical-align: middle;\n",
       "    }\n",
       "\n",
       "    .dataframe tbody tr th {\n",
       "        vertical-align: top;\n",
       "    }\n",
       "\n",
       "    .dataframe thead th {\n",
       "        text-align: right;\n",
       "    }\n",
       "</style>\n",
       "<table border=\"1\" class=\"dataframe\">\n",
       "  <thead>\n",
       "    <tr style=\"text-align: right;\">\n",
       "      <th></th>\n",
       "      <th>JUMLAH</th>\n",
       "      <th>PERSENTASE</th>\n",
       "      <th>PUSKESMAS</th>\n",
       "      <th>Cluster</th>\n",
       "    </tr>\n",
       "  </thead>\n",
       "  <tbody>\n",
       "    <tr>\n",
       "      <th>0</th>\n",
       "      <td>466</td>\n",
       "      <td>18.90</td>\n",
       "      <td>CIHIDEUNG</td>\n",
       "      <td>4</td>\n",
       "    </tr>\n",
       "    <tr>\n",
       "      <th>1</th>\n",
       "      <td>243</td>\n",
       "      <td>12.32</td>\n",
       "      <td>CILEMBANG</td>\n",
       "      <td>8</td>\n",
       "    </tr>\n",
       "    <tr>\n",
       "      <th>2</th>\n",
       "      <td>78</td>\n",
       "      <td>7.99</td>\n",
       "      <td>CIPEDES</td>\n",
       "      <td>5</td>\n",
       "    </tr>\n",
       "    <tr>\n",
       "      <th>3</th>\n",
       "      <td>279</td>\n",
       "      <td>23.12</td>\n",
       "      <td>PANGLAYUNGAN</td>\n",
       "      <td>6</td>\n",
       "    </tr>\n",
       "    <tr>\n",
       "      <th>4</th>\n",
       "      <td>643</td>\n",
       "      <td>22.42</td>\n",
       "      <td>CIGEUREUNG</td>\n",
       "      <td>1</td>\n",
       "    </tr>\n",
       "    <tr>\n",
       "      <th>5</th>\n",
       "      <td>190</td>\n",
       "      <td>9.92</td>\n",
       "      <td>KAHURIPAN</td>\n",
       "      <td>0</td>\n",
       "    </tr>\n",
       "    <tr>\n",
       "      <th>6</th>\n",
       "      <td>113</td>\n",
       "      <td>5.83</td>\n",
       "      <td>TAWANG</td>\n",
       "      <td>5</td>\n",
       "    </tr>\n",
       "    <tr>\n",
       "      <th>7</th>\n",
       "      <td>516</td>\n",
       "      <td>23.10</td>\n",
       "      <td>INDIHIANG</td>\n",
       "      <td>7</td>\n",
       "    </tr>\n",
       "    <tr>\n",
       "      <th>8</th>\n",
       "      <td>240</td>\n",
       "      <td>20.19</td>\n",
       "      <td>PARAKANNYASAG</td>\n",
       "      <td>8</td>\n",
       "    </tr>\n",
       "    <tr>\n",
       "      <th>9</th>\n",
       "      <td>511</td>\n",
       "      <td>23.69</td>\n",
       "      <td>KAWALU</td>\n",
       "      <td>7</td>\n",
       "    </tr>\n",
       "    <tr>\n",
       "      <th>10</th>\n",
       "      <td>594</td>\n",
       "      <td>25.88</td>\n",
       "      <td>KARANGANYAR</td>\n",
       "      <td>1</td>\n",
       "    </tr>\n",
       "    <tr>\n",
       "      <th>11</th>\n",
       "      <td>201</td>\n",
       "      <td>8.83</td>\n",
       "      <td>URUG</td>\n",
       "      <td>0</td>\n",
       "    </tr>\n",
       "    <tr>\n",
       "      <th>12</th>\n",
       "      <td>501</td>\n",
       "      <td>21.10</td>\n",
       "      <td>CIBEUREUM</td>\n",
       "      <td>7</td>\n",
       "    </tr>\n",
       "    <tr>\n",
       "      <th>13</th>\n",
       "      <td>305</td>\n",
       "      <td>30.96</td>\n",
       "      <td>KERSANAGARA</td>\n",
       "      <td>6</td>\n",
       "    </tr>\n",
       "    <tr>\n",
       "      <th>14</th>\n",
       "      <td>319</td>\n",
       "      <td>9.79</td>\n",
       "      <td>TAMANSARI</td>\n",
       "      <td>3</td>\n",
       "    </tr>\n",
       "    <tr>\n",
       "      <th>15</th>\n",
       "      <td>1148</td>\n",
       "      <td>44.36</td>\n",
       "      <td>SANGKALI</td>\n",
       "      <td>2</td>\n",
       "    </tr>\n",
       "    <tr>\n",
       "      <th>16</th>\n",
       "      <td>257</td>\n",
       "      <td>8.24</td>\n",
       "      <td>MANGKUBUMI</td>\n",
       "      <td>8</td>\n",
       "    </tr>\n",
       "    <tr>\n",
       "      <th>17</th>\n",
       "      <td>197</td>\n",
       "      <td>14.04</td>\n",
       "      <td>SAMBONGPARI</td>\n",
       "      <td>0</td>\n",
       "    </tr>\n",
       "    <tr>\n",
       "      <th>18</th>\n",
       "      <td>272</td>\n",
       "      <td>24.62</td>\n",
       "      <td>BUNGURSARI</td>\n",
       "      <td>6</td>\n",
       "    </tr>\n",
       "    <tr>\n",
       "      <th>19</th>\n",
       "      <td>238</td>\n",
       "      <td>22.91</td>\n",
       "      <td>SUKALAKSANA</td>\n",
       "      <td>8</td>\n",
       "    </tr>\n",
       "    <tr>\n",
       "      <th>20</th>\n",
       "      <td>61</td>\n",
       "      <td>2.92</td>\n",
       "      <td>BANTAR</td>\n",
       "      <td>5</td>\n",
       "    </tr>\n",
       "    <tr>\n",
       "      <th>21</th>\n",
       "      <td>359</td>\n",
       "      <td>14.17</td>\n",
       "      <td>PURBARATU</td>\n",
       "      <td>3</td>\n",
       "    </tr>\n",
       "  </tbody>\n",
       "</table>\n",
       "</div>"
      ],
      "text/plain": [
       "    JUMLAH  PERSENTASE      PUSKESMAS  Cluster\n",
       "0      466       18.90      CIHIDEUNG        4\n",
       "1      243       12.32      CILEMBANG        8\n",
       "2       78        7.99        CIPEDES        5\n",
       "3      279       23.12   PANGLAYUNGAN        6\n",
       "4      643       22.42     CIGEUREUNG        1\n",
       "5      190        9.92      KAHURIPAN        0\n",
       "6      113        5.83         TAWANG        5\n",
       "7      516       23.10      INDIHIANG        7\n",
       "8      240       20.19  PARAKANNYASAG        8\n",
       "9      511       23.69         KAWALU        7\n",
       "10     594       25.88    KARANGANYAR        1\n",
       "11     201        8.83           URUG        0\n",
       "12     501       21.10      CIBEUREUM        7\n",
       "13     305       30.96    KERSANAGARA        6\n",
       "14     319        9.79      TAMANSARI        3\n",
       "15    1148       44.36       SANGKALI        2\n",
       "16     257        8.24     MANGKUBUMI        8\n",
       "17     197       14.04    SAMBONGPARI        0\n",
       "18     272       24.62     BUNGURSARI        6\n",
       "19     238       22.91    SUKALAKSANA        8\n",
       "20      61        2.92         BANTAR        5\n",
       "21     359       14.17      PURBARATU        3"
      ]
     },
     "execution_count": 241,
     "metadata": {},
     "output_type": "execute_result"
    }
   ],
   "source": [
    "nilai_fs['PUSKESMAS'] = nilai['PUSKESMAS']\n",
    "nilai_fs['JUMLAH'] = nilai_fs['JUMLAH']\n",
    "nilai_fs['PERSENTASE'] = nilai_fs['PERSENTASE']\n",
    "nilai_fs['Cluster']=kmeans.labels_\n",
    "nilai_fs"
   ]
  },
  {
   "cell_type": "markdown",
   "id": "fe5a528d",
   "metadata": {},
   "source": [
    "Menampilkan kelompok puskesmas memiliki data balita stunting terbanyak (berada di Cluster 0)"
   ]
  },
  {
   "cell_type": "code",
   "execution_count": 250,
   "id": "9f9f4884",
   "metadata": {},
   "outputs": [
    {
     "data": {
      "text/html": [
       "<div>\n",
       "<style scoped>\n",
       "    .dataframe tbody tr th:only-of-type {\n",
       "        vertical-align: middle;\n",
       "    }\n",
       "\n",
       "    .dataframe tbody tr th {\n",
       "        vertical-align: top;\n",
       "    }\n",
       "\n",
       "    .dataframe thead th {\n",
       "        text-align: right;\n",
       "    }\n",
       "</style>\n",
       "<table border=\"1\" class=\"dataframe\">\n",
       "  <thead>\n",
       "    <tr style=\"text-align: right;\">\n",
       "      <th></th>\n",
       "      <th>JUMLAH</th>\n",
       "      <th>PERSENTASE</th>\n",
       "      <th>PUSKESMAS</th>\n",
       "      <th>Cluster</th>\n",
       "    </tr>\n",
       "  </thead>\n",
       "  <tbody>\n",
       "    <tr>\n",
       "      <th>5</th>\n",
       "      <td>190</td>\n",
       "      <td>9.92</td>\n",
       "      <td>KAHURIPAN</td>\n",
       "      <td>0</td>\n",
       "    </tr>\n",
       "    <tr>\n",
       "      <th>11</th>\n",
       "      <td>201</td>\n",
       "      <td>8.83</td>\n",
       "      <td>URUG</td>\n",
       "      <td>0</td>\n",
       "    </tr>\n",
       "    <tr>\n",
       "      <th>17</th>\n",
       "      <td>197</td>\n",
       "      <td>14.04</td>\n",
       "      <td>SAMBONGPARI</td>\n",
       "      <td>0</td>\n",
       "    </tr>\n",
       "  </tbody>\n",
       "</table>\n",
       "</div>"
      ],
      "text/plain": [
       "    JUMLAH  PERSENTASE    PUSKESMAS  Cluster\n",
       "5      190        9.92    KAHURIPAN        0\n",
       "11     201        8.83         URUG        0\n",
       "17     197       14.04  SAMBONGPARI        0"
      ]
     },
     "execution_count": 250,
     "metadata": {},
     "output_type": "execute_result"
    }
   ],
   "source": [
    "puskesmas_data_balita_stuntting_terbanyak = nilai_fs[nilai_fs.Cluster==0]\n",
    "puskesmas_data_balita_stuntting_terbanyak"
   ]
  },
  {
   "cell_type": "code",
   "execution_count": 247,
   "id": "6d12df77",
   "metadata": {},
   "outputs": [
    {
     "data": {
      "text/plain": [
       "3"
      ]
     },
     "execution_count": 247,
     "metadata": {},
     "output_type": "execute_result"
    }
   ],
   "source": [
    "# jumlah kelompok puskesmas memiliki data balita stunting terbanyak dihitung berdasarkan count puskesmas\n",
    "puskesmas_data_balita_stuntting_terbanyak['PUSKESMAS'].count()"
   ]
  },
  {
   "cell_type": "code",
   "execution_count": 249,
   "id": "0ecc8542",
   "metadata": {},
   "outputs": [
    {
     "data": {
      "text/html": [
       "<div>\n",
       "<style scoped>\n",
       "    .dataframe tbody tr th:only-of-type {\n",
       "        vertical-align: middle;\n",
       "    }\n",
       "\n",
       "    .dataframe tbody tr th {\n",
       "        vertical-align: top;\n",
       "    }\n",
       "\n",
       "    .dataframe thead th {\n",
       "        text-align: right;\n",
       "    }\n",
       "</style>\n",
       "<table border=\"1\" class=\"dataframe\">\n",
       "  <thead>\n",
       "    <tr style=\"text-align: right;\">\n",
       "      <th></th>\n",
       "      <th>JUMLAH</th>\n",
       "      <th>PERSENTASE</th>\n",
       "      <th>PUSKESMAS</th>\n",
       "      <th>Cluster</th>\n",
       "    </tr>\n",
       "  </thead>\n",
       "  <tbody>\n",
       "    <tr>\n",
       "      <th>0</th>\n",
       "      <td>466</td>\n",
       "      <td>18.90</td>\n",
       "      <td>CIHIDEUNG</td>\n",
       "      <td>4</td>\n",
       "    </tr>\n",
       "    <tr>\n",
       "      <th>1</th>\n",
       "      <td>243</td>\n",
       "      <td>12.32</td>\n",
       "      <td>CILEMBANG</td>\n",
       "      <td>8</td>\n",
       "    </tr>\n",
       "    <tr>\n",
       "      <th>2</th>\n",
       "      <td>78</td>\n",
       "      <td>7.99</td>\n",
       "      <td>CIPEDES</td>\n",
       "      <td>5</td>\n",
       "    </tr>\n",
       "    <tr>\n",
       "      <th>3</th>\n",
       "      <td>279</td>\n",
       "      <td>23.12</td>\n",
       "      <td>PANGLAYUNGAN</td>\n",
       "      <td>6</td>\n",
       "    </tr>\n",
       "    <tr>\n",
       "      <th>4</th>\n",
       "      <td>643</td>\n",
       "      <td>22.42</td>\n",
       "      <td>CIGEUREUNG</td>\n",
       "      <td>1</td>\n",
       "    </tr>\n",
       "    <tr>\n",
       "      <th>6</th>\n",
       "      <td>113</td>\n",
       "      <td>5.83</td>\n",
       "      <td>TAWANG</td>\n",
       "      <td>5</td>\n",
       "    </tr>\n",
       "    <tr>\n",
       "      <th>7</th>\n",
       "      <td>516</td>\n",
       "      <td>23.10</td>\n",
       "      <td>INDIHIANG</td>\n",
       "      <td>7</td>\n",
       "    </tr>\n",
       "    <tr>\n",
       "      <th>8</th>\n",
       "      <td>240</td>\n",
       "      <td>20.19</td>\n",
       "      <td>PARAKANNYASAG</td>\n",
       "      <td>8</td>\n",
       "    </tr>\n",
       "    <tr>\n",
       "      <th>9</th>\n",
       "      <td>511</td>\n",
       "      <td>23.69</td>\n",
       "      <td>KAWALU</td>\n",
       "      <td>7</td>\n",
       "    </tr>\n",
       "    <tr>\n",
       "      <th>10</th>\n",
       "      <td>594</td>\n",
       "      <td>25.88</td>\n",
       "      <td>KARANGANYAR</td>\n",
       "      <td>1</td>\n",
       "    </tr>\n",
       "    <tr>\n",
       "      <th>12</th>\n",
       "      <td>501</td>\n",
       "      <td>21.10</td>\n",
       "      <td>CIBEUREUM</td>\n",
       "      <td>7</td>\n",
       "    </tr>\n",
       "    <tr>\n",
       "      <th>13</th>\n",
       "      <td>305</td>\n",
       "      <td>30.96</td>\n",
       "      <td>KERSANAGARA</td>\n",
       "      <td>6</td>\n",
       "    </tr>\n",
       "    <tr>\n",
       "      <th>14</th>\n",
       "      <td>319</td>\n",
       "      <td>9.79</td>\n",
       "      <td>TAMANSARI</td>\n",
       "      <td>3</td>\n",
       "    </tr>\n",
       "    <tr>\n",
       "      <th>15</th>\n",
       "      <td>1148</td>\n",
       "      <td>44.36</td>\n",
       "      <td>SANGKALI</td>\n",
       "      <td>2</td>\n",
       "    </tr>\n",
       "    <tr>\n",
       "      <th>16</th>\n",
       "      <td>257</td>\n",
       "      <td>8.24</td>\n",
       "      <td>MANGKUBUMI</td>\n",
       "      <td>8</td>\n",
       "    </tr>\n",
       "    <tr>\n",
       "      <th>18</th>\n",
       "      <td>272</td>\n",
       "      <td>24.62</td>\n",
       "      <td>BUNGURSARI</td>\n",
       "      <td>6</td>\n",
       "    </tr>\n",
       "    <tr>\n",
       "      <th>19</th>\n",
       "      <td>238</td>\n",
       "      <td>22.91</td>\n",
       "      <td>SUKALAKSANA</td>\n",
       "      <td>8</td>\n",
       "    </tr>\n",
       "    <tr>\n",
       "      <th>20</th>\n",
       "      <td>61</td>\n",
       "      <td>2.92</td>\n",
       "      <td>BANTAR</td>\n",
       "      <td>5</td>\n",
       "    </tr>\n",
       "    <tr>\n",
       "      <th>21</th>\n",
       "      <td>359</td>\n",
       "      <td>14.17</td>\n",
       "      <td>PURBARATU</td>\n",
       "      <td>3</td>\n",
       "    </tr>\n",
       "  </tbody>\n",
       "</table>\n",
       "</div>"
      ],
      "text/plain": [
       "    JUMLAH  PERSENTASE      PUSKESMAS  Cluster\n",
       "0      466       18.90      CIHIDEUNG        4\n",
       "1      243       12.32      CILEMBANG        8\n",
       "2       78        7.99        CIPEDES        5\n",
       "3      279       23.12   PANGLAYUNGAN        6\n",
       "4      643       22.42     CIGEUREUNG        1\n",
       "6      113        5.83         TAWANG        5\n",
       "7      516       23.10      INDIHIANG        7\n",
       "8      240       20.19  PARAKANNYASAG        8\n",
       "9      511       23.69         KAWALU        7\n",
       "10     594       25.88    KARANGANYAR        1\n",
       "12     501       21.10      CIBEUREUM        7\n",
       "13     305       30.96    KERSANAGARA        6\n",
       "14     319        9.79      TAMANSARI        3\n",
       "15    1148       44.36       SANGKALI        2\n",
       "16     257        8.24     MANGKUBUMI        8\n",
       "18     272       24.62     BUNGURSARI        6\n",
       "19     238       22.91    SUKALAKSANA        8\n",
       "20      61        2.92         BANTAR        5\n",
       "21     359       14.17      PURBARATU        3"
      ]
     },
     "execution_count": 249,
     "metadata": {},
     "output_type": "execute_result"
    }
   ],
   "source": [
    "puskesmas_data_balita_stuntting_terkecil = nilai_fs[nilai_fs.Cluster >=1]\n",
    "puskesmas_data_balita_stuntting_terkecil"
   ]
  },
  {
   "cell_type": "markdown",
   "id": "b1712d77",
   "metadata": {},
   "source": [
    "# SELESAI"
   ]
  },
  {
   "cell_type": "code",
   "execution_count": null,
   "id": "71affb66",
   "metadata": {},
   "outputs": [],
   "source": []
  },
  {
   "cell_type": "code",
   "execution_count": null,
   "id": "4d9e2b4b",
   "metadata": {},
   "outputs": [],
   "source": []
  },
  {
   "cell_type": "code",
   "execution_count": null,
   "id": "4b2a0d82",
   "metadata": {},
   "outputs": [],
   "source": []
  }
 ],
 "metadata": {
  "kernelspec": {
   "display_name": "Python 3",
   "language": "python",
   "name": "python3"
  },
  "language_info": {
   "codemirror_mode": {
    "name": "ipython",
    "version": 3
   },
   "file_extension": ".py",
   "mimetype": "text/x-python",
   "name": "python",
   "nbconvert_exporter": "python",
   "pygments_lexer": "ipython3",
   "version": "3.8.8"
  }
 },
 "nbformat": 4,
 "nbformat_minor": 5
}
